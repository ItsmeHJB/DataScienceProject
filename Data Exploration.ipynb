{
 "cells": [
  {
   "cell_type": "markdown",
   "id": "9c6dcb0d",
   "metadata": {},
   "source": [
    "# Data exploration"
   ]
  },
  {
   "cell_type": "code",
   "execution_count": 10,
   "id": "85778274",
   "metadata": {},
   "outputs": [
    {
     "name": "stdout",
     "output_type": "stream",
     "text": [
      "3857168\n"
     ]
    }
   ],
   "source": [
    "import jsonlines\n",
    "\n",
    "count = 0\n",
    "\n",
    "with jsonlines.open('Data/07-13-2020.ud.jsonl') as f:\n",
    "    for line in f.iter():\n",
    "        count += 1\n",
    "        \n",
    "print(count)"
   ]
  },
  {
   "cell_type": "code",
   "execution_count": 1,
   "id": "4b15845b",
   "metadata": {},
   "outputs": [],
   "source": [
    "import pandas as pd    \n",
    "df = pd.read_json(path_or_buf='Data/07-13-2020.ud.jsonl', lines=True)"
   ]
  },
  {
   "cell_type": "code",
   "execution_count": 2,
   "id": "a9f81552",
   "metadata": {},
   "outputs": [
    {
     "name": "stdout",
     "output_type": "stream",
     "text": [
      "<class 'pandas.core.frame.DataFrame'>\n",
      "RangeIndex: 3857168 entries, 0 to 3857167\n",
      "Data columns (total 6 columns):\n",
      " #   Column     Dtype \n",
      "---  ------     ----- \n",
      " 0   defid      int64 \n",
      " 1   word       object\n",
      " 2   meaning    object\n",
      " 3   example    object\n",
      " 4   upvotes    int64 \n",
      " 5   downvotes  int64 \n",
      "dtypes: int64(3), object(3)\n",
      "memory usage: 176.6+ MB\n",
      "None\n"
     ]
    }
   ],
   "source": [
    "del df['row']\n",
    "del df['contributor']\n",
    "del df['date']\n",
    "del df['crawled_time']\n",
    "del df['gif']\n",
    "print(df.info())"
   ]
  },
  {
   "cell_type": "markdown",
   "id": "c1767e5d",
   "metadata": {},
   "source": [
    "Keyphrases:\n",
    "- derogatory term, insulting term, racist term, reclaimed, prejudice, slur\n",
    "- examples are questionable?\n",
    "\n",
    "questionable:\n",
    "- ?\n",
    "\n",
    "If it contains certain terms -> include it\n",
    "\n",
    "Do we want to use a ranking system to select terms as some descriptions may have\n",
    "\n",
    "Do we want to consider contreversial terms which are potentially still used? Could use in the filtering."
   ]
  },
  {
   "cell_type": "code",
   "execution_count": 6,
   "id": "2620fa1b",
   "metadata": {},
   "outputs": [
    {
     "name": "stdout",
     "output_type": "stream",
     "text": [
      "            defid            word  \\\n",
      "186       1000172     abercrombie   \n",
      "635      10005969           Locky   \n",
      "1182     10011611   Speckled Coon   \n",
      "1344      1001323            carp   \n",
      "1362     10013390       trumpence   \n",
      "...           ...             ...   \n",
      "3855448   9983321     Sticky Palm   \n",
      "3855637   9985298          plebby   \n",
      "3855694   9985764         P.O.D.S   \n",
      "3856295   9991558         Raceism   \n",
      "3856353   9992118  Chinese Wanker   \n",
      "\n",
      "                                                   meaning  \\\n",
      "186      1. a clothing store that is highly overpriced,...   \n",
      "635      Locky is a derogatory word that is the male fo...   \n",
      "1182     A type of dog. Definetley not a derogatory nam...   \n",
      "1344     Derivative of the term \"carpet kid\". Typically...   \n",
      "1362     A fake, derogatory definition of someone's nam...   \n",
      "...                                                    ...   \n",
      "3855448  The sexually-derogatory act of ejaculating in ...   \n",
      "3855637  (Usually derogatory) -- Typical of the common ...   \n",
      "3855694  Pods means a piece of dog shit. While pos is d...   \n",
      "3856295  noun: raceismthe belief that all members of ea...   \n",
      "3856353  1. A wanker of the Chinese variety. Usually at...   \n",
      "\n",
      "                                                   example  upvotes  downvotes  \n",
      "186      \"god, that girl is such an abercrombie! all of...       28         35  \n",
      "635      J: All Billy wanted was to have sex with me, h...        7          7  \n",
      "1182                                     You speckled coon        1          0  \n",
      "1344     2. \"Geez, man, don't make fun of him; he's a c...       18         30  \n",
      "1362     Mr. Savage created a pornographic trumpence of...       28        240  \n",
      "...                                                    ...      ...        ...  \n",
      "3855448  Male #1 - So I heard Stephanie got a haircut a...        0          1  \n",
      "3855637  He follows football games with plebby enthusia...        6          3  \n",
      "3855694  P.O.D.S James: Hey Jones there 's that Pods Ji...        3          3  \n",
      "3856295  guy1 \"bruh, i don't think you understand the m...        0          0  \n",
      "3856353  1. Hakeem : Let's go to the shops today boys\\n...       14          2  \n",
      "\n",
      "[18048 rows x 6 columns]\n"
     ]
    }
   ],
   "source": [
    "keyphrases = ['derogatory', 'insulting', 'racist term', 'reclaim', 'prejudice', 'slur']\n",
    "\n",
    "matches = df.meaning.str.contains('|'.join(keyphrases))\n",
    "\n",
    "slurs = df[matches].drop_duplicates(subset='word')\n",
    "\n",
    "print(slurs)"
   ]
  },
  {
   "cell_type": "code",
   "execution_count": 22,
   "id": "691dd764",
   "metadata": {},
   "outputs": [],
   "source": [
    "keyphrases = [' less racist ']\n",
    "\n",
    "matches = df.meaning.str.contains('|'.join(keyphrases))\n",
    "\n",
    "slurs = df[matches].drop_duplicates(subset='word')"
   ]
  },
  {
   "cell_type": "code",
   "execution_count": 23,
   "id": "fa597d4c",
   "metadata": {},
   "outputs": [
    {
     "name": "stdout",
     "output_type": "stream",
     "text": [
      "sand ape - A slightly less racist way of calling somebody a sand nigger\n",
      "scoopa - A person who thinks they are cool because they changed ni🅱️🅱️a to a less racist version, but are an actually an idiot.\n",
      "edu-douche - Douche bags with a PhD or Masters that work in higher education. These folks are typically found in a college town, as they very rarely venture out into the real world. Typically a product of white privilege these folks prefer their own kind. They usually keep a minority friend around to help claim social consciousness despite having never lived anywhere with real diversity. They can often be heard talking to each other about how great, better, and less racist they are compared to everyone else. Warning: never attempt to disagree with them, just accept that their time in a classroom makes them better than you.\n",
      "Sergun Cuff - A way for white dudes to sound way less racist in public. (Say Sergio cuff backwards)\n",
      "Chuthu - Short for the word Chuthuthu. Chuthu is less racist than Chuthuthu. Chuthuthu and Chuthu can be compared to Nigger and Nigga. Chuthu can be used for white people to greet eachother.\n",
      "The Big Switch - An event in American history that never happened, it was made up to say that the Democratic Party became racially enlightened and all the racist Democrats moved over to the Republican Party, which is false, the only Democrat who did that was Strom Thurmond, and even when he did that, he became less racist than he was when a Democrat as for every other racist Democrat they were lifelong Democrats, and so was every poor white racist. What did happen was an economic switch, when more industry came to the south, the south became more Republican, but as racism dramatically declined in the south, the south also became more Republican.\n",
      "ni🅱️🅱️a - ni🅱️🅱️a is a less racist n-word for anybody to use! :)Use this word with caution because some people may take it as offensive.\n",
      "boicotton - Adverb; Verb\n",
      "When racist dumpster humans decide not to watch sporting events because it's slightly less racist and classist.\n",
      "nagger - 1.a less racist way to say nigger 2.some one who nags alot\n",
      "Squegro - A less racist term for a black squirrel, as opposed to squigger.\n",
      "AFFIRMATIVE ACTION - In America, Affirmative Action was a product of the Great Society policies of President Lyndon Baines Johnson. It was first codified into law under a series of Executive Orders (not approved by Congress, in other words), which stated that munitions manufacturers including private firms doing business with the federal government should \"take affirmative action\" in hiring minorities - at the time defined almost solely as African Americans.\n",
      " As the Vietnam War dragged on under President Richard Milhous Nixon, Affirmative Action became part of a wider government program to bribe inner city blacks to get with the program and support their government. Of course, Affirmative Action, welfare (started under FDR in the 1930s) and other government handouts did nothing to increase the love that black people had for the federal government.\n",
      " By 1978 liberal activism was under attack. President Jimmy Carter had expanded Johnson's liberal social programs to their ultimate extreme, and white, middle class Americans began to look toward the Republican Party and their rising star, Ronald Reagan, for new political direction. That same year, the Supreme Court ruled 5-4 against quotas for the first time in the landmark California Board of Regents vs. Allan Bakke decision. However, Affirmative Action was far from dead and buried.\n",
      " Today Affirmative Action remains rooted in American policy, although most Americans including many African-Americans find Affirmative Action outmoded for the much less racist atmosphere of the 21st Century.\n",
      " Inexplicably Affirmative Action still exists, even after the election of Barack Obama.\n",
      "Alabama - An extremely misunderstood state that's probably less racist now than a lot of states in the north. We aren't hicks, and we don't have unpaved roads everywhere. We don't have affairs with our family members and we aren't a state full of red necks. Or at least not in most places I've been too\n",
      "Newsasian's - A compromised, less racist version of the 'paki shop'\n",
      "Hicks - (THIS IS THE OTHER HALF OF THE COMPARISON BETWEEN REDNECKS AND HICKS)\n",
      "     A Hick:\n",
      "-May or may not be intelligent or somewhat educated\n",
      "-Doesn't go to KKK meetings\n",
      "-May or may not be imbreeded\n",
      "-Wears overalls and straw hats\n",
      "-Doesn't always wear shoes\n",
      "-Are lucky to have a computer\n",
      "-Might be seen chewing on a hay straw\n",
      "-Doesn't drink beer; drinks moonshine\n",
      "-Doesn't live in trailer parks like rednecks; quite a few live in suburban houses, but most live in the southern foothills, Appalachia, and vast farmlands throughout the Midwest.\n",
      "-Is less racist and bigoted towards differences, but is still serious about defending whatever their particular way of life may be\n",
      "-Are usually more hospitable, especially in the mountains of the South, or the massed farms of the Midwest.\n",
      "-Aren't always as violent as rednecks.\n",
      "British - the british consist of irish, welsh, scottish and english and just like most other races, are all different. some may have yellow teeth but actually i have never noticed this, most of the people i know don't really like tea either. i do know a couple of gays but they rock, i say fuck a lot, am evidently less racist than you, czardoflad, have never said wicked in my life. if colour/color has a correct spelling at all, i spell colour right, americans are the ones who spell it wrong seeing as the american dialect has evolved from english.\n"
     ]
    }
   ],
   "source": [
    "for index, row in slurs.iterrows():\n",
    "    print(row['word'] + \" - \" + row['meaning'])"
   ]
  },
  {
   "cell_type": "markdown",
   "id": "ceaa6bee",
   "metadata": {},
   "source": [
    "uses of racist:\n",
    "- closeted racist who\n",
    "- a racist gnome\n",
    "- outright racist remarks\n",
    "- as racist -> has some issues with certain terms, but lots of good uses \n",
    "- a racist stance\n",
    "- less racist atmosphere/in -> remove?\n",
    "- less racist way/version/ - keep\n",
    "\n",
    "- event -> get rid of?\n",
    "\n",
    "thoughts:\n",
    "- Would something that is originally a name be considered a slur - i.e. Keemstar\n",
    "- "
   ]
  }
 ],
 "metadata": {
  "kernelspec": {
   "display_name": "dsp",
   "language": "python",
   "name": "dsp"
  },
  "language_info": {
   "codemirror_mode": {
    "name": "ipython",
    "version": 3
   },
   "file_extension": ".py",
   "mimetype": "text/x-python",
   "name": "python",
   "nbconvert_exporter": "python",
   "pygments_lexer": "ipython3",
   "version": "3.9.12"
  }
 },
 "nbformat": 4,
 "nbformat_minor": 5
}
