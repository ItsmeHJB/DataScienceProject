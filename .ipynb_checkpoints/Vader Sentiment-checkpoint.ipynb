{
 "cells": [
  {
   "cell_type": "code",
   "execution_count": 1,
   "id": "0aaf65cb",
   "metadata": {},
   "outputs": [],
   "source": [
    "from vaderSentiment.vaderSentiment import SentimentIntensityAnalyzer\n",
    "import pandas as pd\n",
    "import re"
   ]
  },
  {
   "cell_type": "code",
   "execution_count": 2,
   "id": "a0b35854",
   "metadata": {},
   "outputs": [],
   "source": [
    "analyser = SentimentIntensityAnalyzer()\n",
    "\n",
    "def sentiment_analyzer_scores(sentence):\n",
    "    score = analyser.polarity_scores(sentence)\n",
    "    print(\"{:-<40} {}\".format(sentence, str(score)))"
   ]
  },
  {
   "cell_type": "code",
   "execution_count": 3,
   "id": "b11c441d",
   "metadata": {},
   "outputs": [],
   "source": [
    "length = \"high\"\n",
    "version = \"3\"\n",
    "file = pd.read_csv(\"matches_\"+length+version+\".csv\", sep=',', header=None, names=['word', 'text'])\n",
    "dataset = file.drop_duplicates().reset_index(drop=True)"
   ]
  },
  {
   "cell_type": "code",
   "execution_count": 4,
   "id": "36d0d0c2",
   "metadata": {},
   "outputs": [],
   "source": [
    "found_sents = []\n",
    "joint_word = []\n",
    "\n",
    "for index, row in dataset.iterrows():\n",
    "        sentences_list = row.text.split('.')\n",
    "        for sent_index, sentence in enumerate(sentences_list):\n",
    "            # Check if there is an exact match of the word in the sentence\n",
    "            if re.search(r'\\b' + row['word'] + r'\\b', sentence):\n",
    "                found_sents.append(sentences_list[sent_index-1] + \". \" + sentence + \". \" + sentences_list[sent_index+1])\n",
    "                joint_word.append(row['word'])"
   ]
  },
  {
   "cell_type": "code",
   "execution_count": 5,
   "id": "4b1a2944",
   "metadata": {},
   "outputs": [],
   "source": [
    "sentiment_df = pd.DataFrame(columns=['word', 'sent'])\n",
    "sentiment_df['word'] = joint_word\n",
    "sentiment_df['sent'] = found_sents"
   ]
  },
  {
   "cell_type": "code",
   "execution_count": 6,
   "id": "1edaa41f",
   "metadata": {},
   "outputs": [],
   "source": [
    "scores = []\n",
    "for index, row in sentiment_df.iterrows():\n",
    "    scores.append(analyser.polarity_scores(row.sent))\n",
    "    \n",
    "sentiment_df['neg'] = [item['neg'] for item in scores]\n",
    "sentiment_df['neu'] = [item['neu'] for item in scores]\n",
    "sentiment_df['pos'] = [item['pos'] for item in scores]\n",
    "sentiment_df['comp'] = [item['compound'] for item in scores]"
   ]
  },
  {
   "cell_type": "code",
   "execution_count": 7,
   "id": "39acab20",
   "metadata": {},
   "outputs": [
    {
     "name": "stdout",
     "output_type": "stream",
     "text": [
      "             word    neg    neu    pos    comp\n",
      "1819         tojo  0.517  0.471  0.012 -1.0000\n",
      "1820        cissy  0.519  0.472  0.009 -1.0000\n",
      "1403  hearing aid  0.224  0.744  0.032 -0.9999\n",
      "1361  hearing aid  0.260  0.700  0.040 -0.9999\n",
      "2079  hearing aid  0.260  0.700  0.040 -0.9999\n",
      "             word    neg    neu    pos    comp\n",
      "551         devry  0.003  0.965  0.032  0.9988\n",
      "2767        devry  0.003  0.965  0.032  0.9988\n",
      "724   hearing aid  0.107  0.501  0.392  0.9993\n",
      "1271  hearing aid  0.107  0.501  0.392  0.9993\n",
      "368   hearing aid  0.107  0.501  0.392  0.9993\n"
     ]
    }
   ],
   "source": [
    "# All sents\n",
    "print(sentiment_df[['word', 'neg', 'neu', 'pos', 'comp']].sort_values(by=['comp'], ascending=[True]).head())\n",
    "print(sentiment_df[['word', 'neg', 'neu', 'pos', 'comp']].sort_values(by=['comp'], ascending=[True]).tail())"
   ]
  },
  {
   "cell_type": "code",
   "execution_count": 8,
   "id": "c526448d",
   "metadata": {},
   "outputs": [
    {
     "name": "stdout",
     "output_type": "stream",
     "text": [
      "                      neg       neu       pos      comp\n",
      "word                                                   \n",
      "meat gazer       0.656000  0.344000  0.000000 -0.908900\n",
      "chinless wonder  0.161500  0.838500  0.000000 -0.833900\n",
      "douchetard       0.165500  0.764500  0.070000 -0.735500\n",
      "blue eyed devil  0.177667  0.801667  0.021000 -0.703333\n",
      "baby killer      0.262082  0.686490  0.051429 -0.423406\n",
      "                 neg       neu       pos      comp\n",
      "word                                              \n",
      "chancho     0.010667  0.869750  0.119583  0.361489\n",
      "care bear   0.069426  0.642234  0.288319  0.545879\n",
      "shit apple  0.081000  0.670000  0.249000  0.807400\n",
      "peg boy     0.000000  0.576000  0.424000  0.844500\n",
      "niggress    0.177000  0.620000  0.204000  0.936000\n"
     ]
    }
   ],
   "source": [
    "# Grouped by word\n",
    "grouped_df = sentiment_df.groupby(['word'])[['neg', 'neu', 'pos', 'comp']].mean().sort_values(by=['comp'], ascending=[True])\n",
    "print(grouped_df.head())\n",
    "print(grouped_df.tail())"
   ]
  },
  {
   "cell_type": "code",
   "execution_count": 9,
   "id": "5cb4f694",
   "metadata": {},
   "outputs": [
    {
     "data": {
      "text/plain": [
       "<AxesSubplot:xlabel='index'>"
      ]
     },
     "execution_count": 9,
     "metadata": {},
     "output_type": "execute_result"
    },
    {
     "data": {
      "image/png": "[encoded data removed]",
      "text/plain": [
       "<Figure size 432x288 with 1 Axes>"
      ]
     },
     "metadata": {
      "needs_background": "light"
     },
     "output_type": "display_data"
    }
   ],
   "source": [
    "# Grouped by words\n",
    "tmp = grouped_df['comp'].sort_values().reset_index()\n",
    "tmp.reset_index(inplace=True)\n",
    "tmp.plot.line(x=\"index\", y=\"comp\")"
   ]
  },
  {
   "cell_type": "code",
   "execution_count": 10,
   "id": "3ff6ae86",
   "metadata": {},
   "outputs": [
    {
     "data": {
      "text/plain": [
       "<AxesSubplot:xlabel='index'>"
      ]
     },
     "execution_count": 10,
     "metadata": {},
     "output_type": "execute_result"
    },
    {
     "data": {
      "image/png": "[encoded data removed]",
      "text/plain": [
       "<Figure size 432x288 with 1 Axes>"
      ]
     },
     "metadata": {
      "needs_background": "light"
     },
     "output_type": "display_data"
    }
   ],
   "source": [
    "# All sentences\n",
    "tmp = sentiment_df[['word','comp']].sort_values(by=['comp']).reset_index(drop=True)\n",
    "tmp.reset_index(inplace=True)\n",
    "tmp.plot.line(x=\"index\", y=\"comp\")"
   ]
  },
  {
   "cell_type": "code",
   "execution_count": 11,
   "id": "45d2fada",
   "metadata": {},
   "outputs": [],
   "source": [
    "def print_sent_by_word(word):\n",
    "    tmp = sentiment_df[sentiment_df['word'] == word][['word', 'sent']]\n",
    "    for index, row in tmp.iterrows():\n",
    "        print(row['word'] + \": \" + row['sent'])\n",
    "    print('')"
   ]
  },
  {
   "cell_type": "code",
   "execution_count": 21,
   "id": "da4502cf",
   "metadata": {},
   "outputs": [],
   "source": [
    "def print_text_by_word(word):\n",
    "    sents = dataset[dataset['word'] == word]['text'].values\n",
    "    for sent in sents:\n",
    "        print(sent + '\\n')"
   ]
  },
  {
   "cell_type": "code",
   "execution_count": 13,
   "id": "078e8741",
   "metadata": {},
   "outputs": [],
   "source": [
    "def print_worst_sent_by_word(word):\n",
    "    tmp = sentiment_df[sentiment_df['word'] == word][['word', 'sent', 'comp']]\n",
    "    row = tmp[tmp.comp == tmp.comp.max()]\n",
    "    print(row['word'].values + \": \" + row['sent'].values)"
   ]
  },
  {
   "cell_type": "code",
   "execution_count": 14,
   "id": "98b80af0",
   "metadata": {},
   "outputs": [
    {
     "data": {
      "text/plain": [
       "array(['tojo', 'cissy', 'hearing aid', 'hearing aid', 'hearing aid',\n",
       "       'hearing aid', 'hearing aid', 'devry', 'devry', 'devry'],\n",
       "      dtype=object)"
      ]
     },
     "execution_count": 14,
     "metadata": {},
     "output_type": "execute_result"
    }
   ],
   "source": [
    "sentiment_df[['word', 'neg', 'neu', 'pos', 'comp']].sort_values(by=['comp'], ascending=[True]).head(10).word.values"
   ]
  },
  {
   "cell_type": "code",
   "execution_count": 15,
   "id": "1762d2cd",
   "metadata": {},
   "outputs": [
    {
     "name": "stdout",
     "output_type": "stream",
     "text": [
      "[]\n"
     ]
    }
   ],
   "source": [
    "print_worst_sent_by_word('massive rod')"
   ]
  },
  {
   "cell_type": "code",
   "execution_count": 16,
   "id": "6083722e",
   "metadata": {},
   "outputs": [
    {
     "name": "stdout",
     "output_type": "stream",
     "text": [
      "['meat gazer: dead dick  limp dick  floppy disk???. meat gazer. __________________'\n",
      " 'meat gazer: dead dick  limp dick  floppy disk???. meat gazer. __________________']\n",
      "[\"chinless wonder:  that's classic granito: attempting another fraud  without the slightest awareness that it's painfully obvious.  hey  allison  how much smirnov did it take for the chinless wonder to spread your knees the first time  or did you charge him a fee?. sir atticus macphearson\"\n",
      " \"chinless wonder:  that's classic granito: attempting another fraud  without the slightest awareness that it's painfully obvious.  hey  allison  how much smirnov did it take for the chinless wonder to spread your knees the first time  or did you charge him a fee?. sir atticus macphearson\"]\n",
      "['douchetard:  hell  the fucktards who list and allergy to tylenol but who can take vicodin (which contains tylenol) are at least good for a few laughs at the nurses station.  however  if you give that history everyone in the er from me to the guy who mops the floor will know you are a lying douchetard who is scamming for vicodin.  (see rule # 4 about lying']\n",
      "[\"blue eyed devil: abbigale and coty's wedding ceremony script.  the blue eyed devil.  avon gardens  avon  indiana\"\n",
      " 'blue eyed devil: 459 rediscovering aquinas and the sacraments studies in sacramental theology hillenbrand books doc. 460 blue eyed devil doc. 461 paul and his recent interpreters doc']\n",
      "['baby killer: w.  tozer abc abc news abeokuta abercrombie & fitch abigail abortifacient abortion abortion clinic abortion debate abraham absalom abstinence academy award accomplishments accountability accuracy and precision achan acorn acting action actions active acts of the apostles ad adam adam and eve adam4d adblock plus adobe photoshop adolf hitler adoption ads adult adultery adults advertising adwords affair affiliate affiliates afghanistan africa agape age agnosticism ai air bags air force airbag airplane ajax akin alan west alaska albert mohler alberto contador alcohol alexa alexandria alfred all men are created equal all nations alliances allowance ally almighty dollar alone alpha mom alterations amalek amaziah amazing grace amazon amazon kindle ambidextrous ambiguity amendment america american baptist churches usa american bible society american broadcasting company american express american family radio american free press american humanist association american idol american red cross american revolution american revolutionary war americans amphibious amy adams ananias andrew fields anfield angels anger angle animal protection and rescue league ann althouse ann coulter anniversary announcement anon answers answers in genesis anthem lights anthony kennedy anti-catholicism anti-christ anti-christian sentiment anti-nuclear movement antioch baptist church (shreveport antonin scalia ap united states history apollos apologetics apology apostle (christian) apostle (latter day saints) apostle paul appeal to probability appealing apple appreciate aquila archbishop of canterbury argentina argument argument from authority arguments arizona daily star ark of the covenant artaxerxes i of persia artificial insemination artificial intelligence asa ascension of jesus ashkenazi jews asia aslan assange assemblies of god asset allocation assisted suicide associated press association of professional flight attendants assurance atheism atheist athens atlantic ocean atonement in christianity attack attacks attendance attention attorney general attracted attraction attractive auction austerity australia authority authorized king james version auto avengers average awana award awareness azariah babcock & wilcox babies baby baby announcement baby killer baby parts babylon bee babylonian captivity babysitter bachmann back to the future back-alley bad bailout bailouts balance transfer baldwin banana bandwagon banking banks baptism baptism with the holy spirit baptist press baptists bar barack obama barbara boxer barbecue barbie bart d.  ehrman basal body temperature baseball bat kid bathsheba batman battle battle of the sexes beating heart beauty beauty pageant beck beginning behavior behavioral and brain sciences belgium belief believers bengahzi benghazi bias bible bible church bible college bible fellowship church bible story bible study (christian) bible talk tuesdays biblical criticism biblical patriarchy biden bikini bill barr bill clinton bill me later billboard bing biology birth birth certificate birth control birthday birther birthers bitcoin bithynia black knight blair house blame blessing blog blog carnival blogging blogs blonde body body of christ book book of genesis book of job book of joshua book of micah book of nehemiah book of proverbs book of zephaniah books books of chronicles books of samuel border borderline personality disorder born-alive bourne boy boy scouts of america boycott boys brain branches break breast cancer breast milk bride bride price brit hume britain brother bsa budget building bumper sticker bunning burden burning burning of washington bush business busy buy back buy something c'\n",
      " 'baby killer: w.  tozer abc abc news abeokuta abercrombie & fitch abigail abortifacient abortion abortion clinic abortion debate abraham absalom abstinence academy award accomplishments accountability accuracy and precision achan acorn acting action actions active acts of the apostles ad adam adam and eve adam4d adblock plus adobe photoshop adolf hitler adoption ads adult adultery adults advertising adwords affair affiliate affiliates afghanistan africa agape age agnosticism ai air bags air force airbag airplane ajax akin alan west alaska albert mohler alberto contador alcohol alexa alexandria alfred all men are created equal all nations alliances allowance ally almighty dollar alone alpha mom alterations amalek amaziah amazing grace amazon amazon kindle ambidextrous ambiguity amendment america american baptist churches usa american bible society american broadcasting company american express american family radio american free press american humanist association american idol american red cross american revolution american revolutionary war americans amphibious amy adams ananias andrew fields anfield angels anger angle animal protection and rescue league ann althouse ann coulter anniversary announcement anon answers answers in genesis anthem lights anthony kennedy anti-catholicism anti-christ anti-christian sentiment anti-nuclear movement antioch baptist church (shreveport antonin scalia ap united states history apollos apologetics apology apostle (christian) apostle (latter day saints) apostle paul appeal to probability appealing apple appreciate aquila archbishop of canterbury argentina argument argument from authority arguments arizona daily star ark of the covenant artaxerxes i of persia artificial insemination artificial intelligence asa ascension of jesus ashkenazi jews asia aslan assange assemblies of god asset allocation assisted suicide associated press association of professional flight attendants assurance atheism atheist athens atlantic ocean atonement in christianity attack attacks attendance attention attorney general attracted attraction attractive auction austerity australia authority authorized king james version auto avengers average awana award awareness azariah babcock & wilcox babies baby baby announcement baby killer baby parts babylon bee babylonian captivity babysitter bachmann back to the future back-alley bad bailout bailouts balance transfer baldwin banana bandwagon banking banks baptism baptism with the holy spirit baptist press baptists bar barack obama barbara boxer barbecue barbie bart d.  ehrman basal body temperature baseball bat kid bathsheba batman battle battle of the sexes beating heart beauty beauty pageant beck beginning behavior behavioral and brain sciences belgium belief believers bengahzi benghazi bias bible bible church bible college bible fellowship church bible story bible study (christian) bible talk tuesdays biblical criticism biblical patriarchy biden bikini bill barr bill clinton bill me later billboard bing biology birth birth certificate birth control birthday birther birthers bitcoin bithynia black knight blair house blame blessing blog blog carnival blogging blogs blonde body body of christ book book of genesis book of job book of joshua book of micah book of nehemiah book of proverbs book of zephaniah books books of chronicles books of samuel border borderline personality disorder born-alive bourne boy boy scouts of america boycott boys brain branches break breast cancer breast milk bride bride price brit hume britain brother bsa budget building bumper sticker bunning burden burning burning of washington bush business busy buy back buy something c'\n",
      " 'baby killer: w.  tozer abc abc news abeokuta abercrombie & fitch abigail abortifacient abortion abortion clinic abortion debate abraham absalom abstinence academy award accomplishments accountability accuracy and precision achan acorn acting action actions active acts of the apostles ad adam adam and eve adam4d adblock plus adobe photoshop adolf hitler adoption ads adult adultery adults advertising adwords affair affiliate affiliates afghanistan africa agape age agnosticism ai air bags air force airbag airplane ajax akin alan west alaska albert mohler alberto contador alcohol alexa alexandria alfred all men are created equal all nations alliances allowance ally almighty dollar alone alpha mom alterations amalek amaziah amazing grace amazon amazon kindle ambidextrous ambiguity amendment america american baptist churches usa american bible society american broadcasting company american express american family radio american free press american humanist association american idol american red cross american revolution american revolutionary war americans amphibious amy adams ananias andrew fields anfield angels anger angle animal protection and rescue league ann althouse ann coulter anniversary announcement anon answers answers in genesis anthem lights anthony kennedy anti-catholicism anti-christ anti-christian sentiment anti-nuclear movement antioch baptist church (shreveport antonin scalia ap united states history apollos apologetics apology apostle (christian) apostle (latter day saints) apostle paul appeal to probability appealing apple appreciate aquila archbishop of canterbury argentina argument argument from authority arguments arizona daily star ark of the covenant artaxerxes i of persia artificial insemination artificial intelligence asa ascension of jesus ashkenazi jews asia aslan assange assemblies of god asset allocation assisted suicide associated press association of professional flight attendants assurance atheism atheist athens atlantic ocean atonement in christianity attack attacks attendance attention attorney general attracted attraction attractive auction austerity australia authority authorized king james version auto avengers average awana award awareness azariah babcock & wilcox babies baby baby announcement baby killer baby parts babylon bee babylonian captivity babysitter bachmann back to the future back-alley bad bailout bailouts balance transfer baldwin banana bandwagon banking banks baptism baptism with the holy spirit baptist press baptists bar barack obama barbara boxer barbecue barbie bart d.  ehrman basal body temperature baseball bat kid bathsheba batman battle battle of the sexes beating heart beauty beauty pageant beck beginning behavior behavioral and brain sciences belgium belief believers bengahzi benghazi bias bible bible church bible college bible fellowship church bible story bible study (christian) bible talk tuesdays biblical criticism biblical patriarchy biden bikini bill barr bill clinton bill me later billboard bing biology birth birth certificate birth control birthday birther birthers bitcoin bithynia black knight blair house blame blessing blog blog carnival blogging blogs blonde body body of christ book book of genesis book of job book of joshua book of micah book of nehemiah book of proverbs book of zephaniah books books of chronicles books of samuel border borderline personality disorder born-alive bourne boy boy scouts of america boycott boys brain branches break breast cancer breast milk bride bride price brit hume britain brother bsa budget building bumper sticker bunning burden burning burning of washington bush business busy buy back buy something c'\n",
      " 'baby killer: w.  tozer abc abc news abeokuta abercrombie & fitch abigail abortifacient abortion abortion clinic abortion debate abraham absalom abstinence academy award accomplishments accountability accuracy and precision achan acorn acting action actions active acts of the apostles ad adam adam and eve adam4d adblock plus adobe photoshop adolf hitler adoption ads adult adultery adults advertising adwords affair affiliate affiliates afghanistan africa agape age agnosticism ai air bags air force airbag airplane ajax akin alan west alaska albert mohler alberto contador alcohol alexa alexandria alfred all men are created equal all nations alliances allowance ally almighty dollar alone alpha mom alterations amalek amaziah amazing grace amazon amazon kindle ambidextrous ambiguity amendment america american baptist churches usa american bible society american broadcasting company american express american family radio american free press american humanist association american idol american red cross american revolution american revolutionary war americans amphibious amy adams ananias andrew fields anfield angels anger angle animal protection and rescue league ann althouse ann coulter anniversary announcement anon answers answers in genesis anthem lights anthony kennedy anti-catholicism anti-christ anti-christian sentiment anti-nuclear movement antioch baptist church (shreveport antonin scalia ap united states history apollos apologetics apology apostle (christian) apostle (latter day saints) apostle paul appeal to probability appealing apple appreciate aquila archbishop of canterbury argentina argument argument from authority arguments arizona daily star ark of the covenant artaxerxes i of persia artificial insemination artificial intelligence asa ascension of jesus ashkenazi jews asia aslan assange assemblies of god asset allocation assisted suicide associated press association of professional flight attendants assurance atheism atheist athens atlantic ocean atonement in christianity attack attacks attendance attention attorney general attracted attraction attractive auction austerity australia authority authorized king james version auto avengers average awana award awareness azariah babcock & wilcox babies baby baby announcement baby killer baby parts babylon bee babylonian captivity babysitter bachmann back to the future back-alley bad bailout bailouts balance transfer baldwin banana bandwagon banking banks baptism baptism with the holy spirit baptist press baptists bar barack obama barbara boxer barbecue barbie bart d.  ehrman basal body temperature baseball bat kid bathsheba batman battle battle of the sexes beating heart beauty beauty pageant beck beginning behavior behavioral and brain sciences belgium belief believers bengahzi benghazi bias bible bible church bible college bible fellowship church bible story bible study (christian) bible talk tuesdays biblical criticism biblical patriarchy biden bikini bill barr bill clinton bill me later billboard bing biology birth birth certificate birth control birthday birther birthers bitcoin bithynia black knight blair house blame blessing blog blog carnival blogging blogs blonde body body of christ book book of genesis book of job book of joshua book of micah book of nehemiah book of proverbs book of zephaniah books books of chronicles books of samuel border borderline personality disorder born-alive bourne boy boy scouts of america boycott boys brain branches break breast cancer breast milk bride bride price brit hume britain brother bsa budget building bumper sticker bunning burden burning burning of washington bush business busy buy back buy something c'\n",
      " 'baby killer: w.  tozer abc abc news abeokuta abercrombie & fitch abigail abortifacient abortion abortion clinic abortion debate abraham absalom abstinence academy award accomplishments accountability accuracy and precision achan acorn acting action actions active acts of the apostles ad adam adam and eve adam4d adblock plus adobe photoshop adolf hitler adoption ads adult adultery adults advertising adwords affair affiliate affiliates afghanistan africa agape age agnosticism ai air bags air force airbag airplane ajax akin alan west alaska albert mohler alberto contador alcohol alexa alexandria alfred all men are created equal all nations alliances allowance ally almighty dollar alone alpha mom alterations amalek amaziah amazing grace amazon amazon kindle ambidextrous ambiguity amendment america american baptist churches usa american bible society american broadcasting company american express american family radio american free press american humanist association american idol american red cross american revolution american revolutionary war americans amphibious amy adams ananias andrew fields anfield angels anger angle animal protection and rescue league ann althouse ann coulter anniversary announcement anon answers answers in genesis anthem lights anthony kennedy anti-catholicism anti-christ anti-christian sentiment anti-nuclear movement antioch baptist church (shreveport antonin scalia ap united states history apollos apologetics apology apostle (christian) apostle (latter day saints) apostle paul appeal to probability appealing apple appreciate aquila archbishop of canterbury argentina argument argument from authority arguments arizona daily star ark of the covenant artaxerxes i of persia artificial insemination artificial intelligence asa ascension of jesus ashkenazi jews asia aslan assange assemblies of god asset allocation assisted suicide associated press association of professional flight attendants assurance atheism atheist athens atlantic ocean atonement in christianity attack attacks attendance attention attorney general attracted attraction attractive auction austerity australia authority authorized king james version auto avengers average awana award awareness azariah babcock & wilcox babies baby baby announcement baby killer baby parts babylon bee babylonian captivity babysitter bachmann back to the future back-alley bad bailout bailouts balance transfer baldwin banana bandwagon banking banks baptism baptism with the holy spirit baptist press baptists bar barack obama barbara boxer barbecue barbie bart d.  ehrman basal body temperature baseball bat kid bathsheba batman battle battle of the sexes beating heart beauty beauty pageant beck beginning behavior behavioral and brain sciences belgium belief believers bengahzi benghazi bias bible bible church bible college bible fellowship church bible story bible study (christian) bible talk tuesdays biblical criticism biblical patriarchy biden bikini bill barr bill clinton bill me later billboard bing biology birth birth certificate birth control birthday birther birthers bitcoin bithynia black knight blair house blame blessing blog blog carnival blogging blogs blonde body body of christ book book of genesis book of job book of joshua book of micah book of nehemiah book of proverbs book of zephaniah books books of chronicles books of samuel border borderline personality disorder born-alive bourne boy boy scouts of america boycott boys brain branches break breast cancer breast milk bride bride price brit hume britain brother bsa budget building bumper sticker bunning burden burning burning of washington bush business busy buy back buy something c'\n",
      " 'baby killer: w.  tozer abc abc news abeokuta abercrombie & fitch abigail abortifacient abortion abortion clinic abortion debate abraham absalom abstinence academy award accomplishments accountability accuracy and precision achan acorn acting action actions active acts of the apostles ad adam adam and eve adam4d adblock plus adobe photoshop adolf hitler adoption ads adult adultery adults advertising adwords affair affiliate affiliates afghanistan africa agape age agnosticism ai air bags air force airbag airplane ajax akin alan west alaska albert mohler alberto contador alcohol alexa alexandria alfred all men are created equal all nations alliances allowance ally almighty dollar alone alpha mom alterations amalek amaziah amazing grace amazon amazon kindle ambidextrous ambiguity amendment america american baptist churches usa american bible society american broadcasting company american express american family radio american free press american humanist association american idol american red cross american revolution american revolutionary war americans amphibious amy adams ananias andrew fields anfield angels anger angle animal protection and rescue league ann althouse ann coulter anniversary announcement anon answers answers in genesis anthem lights anthony kennedy anti-catholicism anti-christ anti-christian sentiment anti-nuclear movement antioch baptist church (shreveport antonin scalia ap united states history apollos apologetics apology apostle (christian) apostle (latter day saints) apostle paul appeal to probability appealing apple appreciate aquila archbishop of canterbury argentina argument argument from authority arguments arizona daily star ark of the covenant artaxerxes i of persia artificial insemination artificial intelligence asa ascension of jesus ashkenazi jews asia aslan assange assemblies of god asset allocation assisted suicide associated press association of professional flight attendants assurance atheism atheist athens atlantic ocean atonement in christianity attack attacks attendance attention attorney general attracted attraction attractive auction austerity australia authority authorized king james version auto avengers average awana award awareness azariah babcock & wilcox babies baby baby announcement baby killer baby parts babylon bee babylonian captivity babysitter bachmann back to the future back-alley bad bailout bailouts balance transfer baldwin banana bandwagon banking banks baptism baptism with the holy spirit baptist press baptists bar barack obama barbara boxer barbecue barbie bart d.  ehrman basal body temperature baseball bat kid bathsheba batman battle battle of the sexes beating heart beauty beauty pageant beck beginning behavior behavioral and brain sciences belgium belief believers bengahzi benghazi bias bible bible church bible college bible fellowship church bible story bible study (christian) bible talk tuesdays biblical criticism biblical patriarchy biden bikini bill barr bill clinton bill me later billboard bing biology birth birth certificate birth control birthday birther birthers bitcoin bithynia black knight blair house blame blessing blog blog carnival blogging blogs blonde body body of christ book book of genesis book of job book of joshua book of micah book of nehemiah book of proverbs book of zephaniah books books of chronicles books of samuel border borderline personality disorder born-alive bourne boy boy scouts of america boycott boys brain branches break breast cancer breast milk bride bride price brit hume britain brother bsa budget building bumper sticker bunning burden burning burning of washington bush business busy buy back buy something c'\n",
      " 'baby killer: w.  tozer abc abc news abeokuta abercrombie & fitch abigail abortifacient abortion abortion clinic abortion debate abraham absalom abstinence academy award accomplishments accountability accuracy and precision achan acorn acting action actions active acts of the apostles ad adam adam and eve adam4d adblock plus adobe photoshop adolf hitler adoption ads adult adultery adults advertising adwords affair affiliate affiliates afghanistan africa agape age agnosticism ai air bags air force airbag airplane ajax akin alan west alaska albert mohler alberto contador alcohol alexa alexandria alfred all men are created equal all nations alliances allowance ally almighty dollar alone alpha mom alterations amalek amaziah amazing grace amazon amazon kindle ambidextrous ambiguity amendment america american baptist churches usa american bible society american broadcasting company american express american family radio american free press american humanist association american idol american red cross american revolution american revolutionary war americans amphibious amy adams ananias andrew fields anfield angels anger angle animal protection and rescue league ann althouse ann coulter anniversary announcement anon answers answers in genesis anthem lights anthony kennedy anti-catholicism anti-christ anti-christian sentiment anti-nuclear movement antioch baptist church (shreveport antonin scalia ap united states history apollos apologetics apology apostle (christian) apostle (latter day saints) apostle paul appeal to probability appealing apple appreciate aquila archbishop of canterbury argentina argument argument from authority arguments arizona daily star ark of the covenant artaxerxes i of persia artificial insemination artificial intelligence asa ascension of jesus ashkenazi jews asia aslan assange assemblies of god asset allocation assisted suicide associated press association of professional flight attendants assurance atheism atheist athens atlantic ocean atonement in christianity attack attacks attendance attention attorney general attracted attraction attractive auction austerity australia authority authorized king james version auto avengers average awana award awareness azariah babcock & wilcox babies baby baby announcement baby killer baby parts babylon bee babylonian captivity babysitter bachmann back to the future back-alley bad bailout bailouts balance transfer baldwin banana bandwagon banking banks baptism baptism with the holy spirit baptist press baptists bar barack obama barbara boxer barbecue barbie bart d.  ehrman basal body temperature baseball bat kid bathsheba batman battle battle of the sexes beating heart beauty beauty pageant beck beginning behavior behavioral and brain sciences belgium belief believers bengahzi benghazi bias bible bible church bible college bible fellowship church bible story bible study (christian) bible talk tuesdays biblical criticism biblical patriarchy biden bikini bill barr bill clinton bill me later billboard bing biology birth birth certificate birth control birthday birther birthers bitcoin bithynia black knight blair house blame blessing blog blog carnival blogging blogs blonde body body of christ book book of genesis book of job book of joshua book of micah book of nehemiah book of proverbs book of zephaniah books books of chronicles books of samuel border borderline personality disorder born-alive bourne boy boy scouts of america boycott boys brain branches break breast cancer breast milk bride bride price brit hume britain brother bsa budget building bumper sticker bunning burden burning burning of washington bush business busy buy back buy something c']\n",
      "['birdshit: 1st march  2012. birdshit. a more ponderous  pretentious and ultimately vapid drama is hard to imagine unless one dared contemplate an adaptation of barbara cartland’s “love under fire” directed by tony scott and starring  say  that little pillock from muse']\n",
      "['pollyannaish: there are so many things they could be afraid of if the tables were turned.  fortunately women are not just like men for the most part and we usually want something different  (to risk sounding pollyannaish) something better.  but we’re not above revenge and we’re really good at it! i was thrilled to push the guy back on the subway; if i were more devious he’d have been under the train wheels at the next stop']\n",
      "['ovomit: ug. prove it! cnn lies all the time like ovomit does. ']\n",
      "['ragheads: . from what you wrote  does that mean that calling muzzies names like ragheads and goat-f#ckers illegal? i sure hope not.  but if you still think this way  you should go join bho’s thought police  because that is where all this sh#t is leading to']\n",
      "['turdburglar: . since i rarely leave the house (turdburglar has separation anxiety)  i need to get the word out. ']\n"
     ]
    }
   ],
   "source": [
    "tmp_grouped = grouped_df.reset_index()\n",
    "number_of_terms = 10\n",
    "terms = pd.unique(tmp_grouped.head(number_of_terms).word.values)\n",
    "for term in terms:\n",
    "    print_worst_sent_by_word(term)"
   ]
  },
  {
   "cell_type": "code",
   "execution_count": 17,
   "id": "a40ce3a0",
   "metadata": {},
   "outputs": [],
   "source": [
    "# number_of_terms = 10\n",
    "# terms = pd.unique(sentiment_df[['word', 'neg', 'neu', 'pos', 'comp']].sort_values(by=['comp'], ascending=[True]).head(number_of_terms).word.values)\n",
    "# for term in terms:\n",
    "#     print_worst_sent_by_word(term)"
   ]
  },
  {
   "cell_type": "code",
   "execution_count": 22,
   "id": "8a8d5943",
   "metadata": {},
   "outputs": [
    {
     "name": "stderr",
     "output_type": "stream",
     "text": [
      "IOPub data rate exceeded.\n",
      "The notebook server will temporarily stop sending output\n",
      "to the client in order to avoid crashing it.\n",
      "To change this limit, set the config variable\n",
      "`--NotebookApp.iopub_data_rate_limit`.\n",
      "\n",
      "Current values:\n",
      "NotebookApp.iopub_data_rate_limit=1000000.0 (bytes/sec)\n",
      "NotebookApp.rate_limit_window=3.0 (secs)\n",
      "\n"
     ]
    }
   ],
   "source": [
    "search_word = 'baby killer'\n",
    "#print_sent_by_word(search_word)\n",
    "print_text_by_word(search_word)"
   ]
  }
 ],
 "metadata": {
  "kernelspec": {
   "display_name": "dsp",
   "language": "python",
   "name": "dsp"
  },
  "language_info": {
   "codemirror_mode": {
    "name": "ipython",
    "version": 3
   },
   "file_extension": ".py",
   "mimetype": "text/x-python",
   "name": "python",
   "nbconvert_exporter": "python",
   "pygments_lexer": "ipython3",
   "version": "3.9.12"
  }
 },
 "nbformat": 4,
 "nbformat_minor": 5
}
