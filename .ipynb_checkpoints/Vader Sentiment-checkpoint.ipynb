{
 "cells": [
  {
   "cell_type": "code",
   "execution_count": 1,
   "id": "0aaf65cb",
   "metadata": {},
   "outputs": [],
   "source": [
    "from vaderSentiment.vaderSentiment import SentimentIntensityAnalyzer\n",
    "import pandas as pd\n",
    "import re"
   ]
  },
  {
   "cell_type": "code",
   "execution_count": 2,
   "id": "a0b35854",
   "metadata": {},
   "outputs": [],
   "source": [
    "analyser = SentimentIntensityAnalyzer()\n",
    "\n",
    "def sentiment_analyzer_scores(sentence):\n",
    "    score = analyser.polarity_scores(sentence)\n",
    "    print(\"{:-<40} {}\".format(sentence, str(score)))"
   ]
  },
  {
   "cell_type": "code",
   "execution_count": 3,
   "id": "b11c441d",
   "metadata": {},
   "outputs": [
    {
     "ename": "NameError",
     "evalue": "name 'short' is not defined",
     "output_type": "error",
     "traceback": [
      "\u001b[1;31m---------------------------------------------------------------------------\u001b[0m",
      "\u001b[1;31mNameError\u001b[0m                                 Traceback (most recent call last)",
      "Input \u001b[1;32mIn [3]\u001b[0m, in \u001b[0;36m<cell line: 3>\u001b[1;34m()\u001b[0m\n\u001b[0;32m      1\u001b[0m length \u001b[38;5;241m=\u001b[39m \u001b[38;5;124m\"\u001b[39m\u001b[38;5;124mshort\u001b[39m\u001b[38;5;124m\"\u001b[39m\n\u001b[0;32m      2\u001b[0m version \u001b[38;5;241m=\u001b[39m \u001b[38;5;124m\"\u001b[39m\u001b[38;5;124m1\u001b[39m\u001b[38;5;124m\"\u001b[39m\n\u001b[1;32m----> 3\u001b[0m file \u001b[38;5;241m=\u001b[39m pd\u001b[38;5;241m.\u001b[39mread_csv(\u001b[38;5;124m\"\u001b[39m\u001b[38;5;124mmatches_\u001b[39m\u001b[38;5;124m\"\u001b[39m\u001b[38;5;241m+\u001b[39mlength\u001b[38;5;241m+\u001b[39m\u001b[43mshort\u001b[49m\u001b[38;5;241m+\u001b[39m\u001b[38;5;124m\"\u001b[39m\u001b[38;5;124m.csv\u001b[39m\u001b[38;5;124m\"\u001b[39m, sep\u001b[38;5;241m=\u001b[39m\u001b[38;5;124m'\u001b[39m\u001b[38;5;124m,\u001b[39m\u001b[38;5;124m'\u001b[39m, header\u001b[38;5;241m=\u001b[39m\u001b[38;5;28;01mNone\u001b[39;00m, names\u001b[38;5;241m=\u001b[39m[\u001b[38;5;124m'\u001b[39m\u001b[38;5;124mword\u001b[39m\u001b[38;5;124m'\u001b[39m, \u001b[38;5;124m'\u001b[39m\u001b[38;5;124mtext\u001b[39m\u001b[38;5;124m'\u001b[39m])\n\u001b[0;32m      4\u001b[0m dataset \u001b[38;5;241m=\u001b[39m file\u001b[38;5;241m.\u001b[39mdrop_duplicates()\u001b[38;5;241m.\u001b[39mreset_index(drop\u001b[38;5;241m=\u001b[39m\u001b[38;5;28;01mTrue\u001b[39;00m)\n",
      "\u001b[1;31mNameError\u001b[0m: name 'short' is not defined"
     ]
    }
   ],
   "source": [
    "length = \"low\"\n",
    "version = \"1\"\n",
    "file = pd.read_csv(\"matches_\"+length+version+\".csv\", sep=',', header=None, names=['word', 'text'])\n",
    "dataset = file.drop_duplicates().reset_index(drop=True)"
   ]
  },
  {
   "cell_type": "code",
   "execution_count": null,
   "id": "36d0d0c2",
   "metadata": {},
   "outputs": [],
   "source": [
    "found_sents = []\n",
    "joint_word = []\n",
    "\n",
    "for index, row in dataset.iterrows():\n",
    "        sentences_list = row.text.split('.')\n",
    "        for sent_index, sentence in enumerate(sentences_list):\n",
    "            # Check if there is an exact match of the word in the sentence\n",
    "            if re.search(r'\\b' + row['word'] + r'\\b', sentence):\n",
    "                found_sents.append(sentences_list[sent_index-1] + \". \" + sentence + \". \" + sentences_list[sent_index+1])\n",
    "                joint_word.append(row['word'])"
   ]
  },
  {
   "cell_type": "code",
   "execution_count": null,
   "id": "4b1a2944",
   "metadata": {},
   "outputs": [],
   "source": [
    "sentiment_df = pd.DataFrame(columns=['word', 'sent'])\n",
    "sentiment_df['word'] = joint_word\n",
    "sentiment_df['sent'] = found_sents"
   ]
  },
  {
   "cell_type": "code",
   "execution_count": null,
   "id": "1edaa41f",
   "metadata": {},
   "outputs": [],
   "source": [
    "scores = []\n",
    "for index, row in sentiment_df.iterrows():\n",
    "    scores.append(analyser.polarity_scores(row.sent))\n",
    "    \n",
    "sentiment_df['neg'] = [item['neg'] for item in scores]\n",
    "sentiment_df['neu'] = [item['neu'] for item in scores]\n",
    "sentiment_df['pos'] = [item['pos'] for item in scores]\n",
    "sentiment_df['comp'] = [item['compound'] for item in scores]"
   ]
  },
  {
   "cell_type": "code",
   "execution_count": null,
   "id": "c526448d",
   "metadata": {},
   "outputs": [],
   "source": [
    "sentiment_df.groupby(['word'])[['neg', 'neu', 'pos', 'comp']].mean().sort_values(by=['neg', 'pos'], ascending=[False, True])"
   ]
  },
  {
   "cell_type": "code",
   "execution_count": null,
   "id": "45d2fada",
   "metadata": {},
   "outputs": [],
   "source": [
    "def print_sent_by_word(word):\n",
    "    tmp = sentiment_df[sentiment_df['word'] == word][['word', 'sent']]\n",
    "    for index, row in tmp.iterrows():\n",
    "        print(row['word'] + \": \" + row['sent'])\n",
    "    print('')"
   ]
  },
  {
   "cell_type": "code",
   "execution_count": null,
   "id": "da4502cf",
   "metadata": {},
   "outputs": [],
   "source": [
    "def print_text_by_word(word):\n",
    "    print(dataset[dataset['word'] == word]['text'].values)\n",
    "    print('')"
   ]
  },
  {
   "cell_type": "code",
   "execution_count": null,
   "id": "8a8d5943",
   "metadata": {},
   "outputs": [],
   "source": [
    "# search_word = 'saxon dog'\n",
    "# print_sent_by_word(search_word)\n",
    "# print_text_by_word(search_word)"
   ]
  }
 ],
 "metadata": {
  "kernelspec": {
   "display_name": "dsp",
   "language": "python",
   "name": "dsp"
  },
  "language_info": {
   "codemirror_mode": {
    "name": "ipython",
    "version": 3
   },
   "file_extension": ".py",
   "mimetype": "text/x-python",
   "name": "python",
   "nbconvert_exporter": "python",
   "pygments_lexer": "ipython3",
   "version": "3.9.12"
  }
 },
 "nbformat": 4,
 "nbformat_minor": 5
}
