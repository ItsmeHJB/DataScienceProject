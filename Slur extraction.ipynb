{
 "cells": [
  {
   "cell_type": "markdown",
   "id": "9c6dcb0d",
   "metadata": {},
   "source": [
    "# Data exploration"
   ]
  },
  {
   "cell_type": "code",
   "execution_count": 1,
   "id": "85778274",
   "metadata": {},
   "outputs": [],
   "source": [
    "# import jsonlines\n",
    "\n",
    "# count = 0\n",
    "\n",
    "# with jsonlines.open('Data/07-13-2020.ud.jsonl') as f:\n",
    "#     for line in f.iter():\n",
    "#         count += 1\n",
    "        \n",
    "# print(count)"
   ]
  },
  {
   "cell_type": "code",
   "execution_count": 2,
   "id": "4b15845b",
   "metadata": {},
   "outputs": [
    {
     "name": "stdout",
     "output_type": "stream",
     "text": [
      "<class 'pandas.core.frame.DataFrame'>\n",
      "RangeIndex: 3857168 entries, 0 to 3857167\n",
      "Data columns (total 11 columns):\n",
      " #   Column        Dtype         \n",
      "---  ------        -----         \n",
      " 0   defid         int64         \n",
      " 1   row           int64         \n",
      " 2   word          object        \n",
      " 3   meaning       object        \n",
      " 4   example       object        \n",
      " 5   contributor   object        \n",
      " 6   date          datetime64[ns]\n",
      " 7   upvotes       int64         \n",
      " 8   downvotes     int64         \n",
      " 9   crawled_time  datetime64[ns]\n",
      " 10  gif           object        \n",
      "dtypes: datetime64[ns](2), int64(4), object(5)\n",
      "memory usage: 323.7+ MB\n"
     ]
    }
   ],
   "source": [
    "import pandas as pd    \n",
    "raw_data = pd.read_json(path_or_buf='Data/07-13-2020.ud.jsonl', lines=True)\n",
    "raw_data.info()"
   ]
  },
  {
   "cell_type": "markdown",
   "id": "f6187714",
   "metadata": {},
   "source": [
    "File contain 3857168 definitions\n",
    "\n",
    "Each row contains a definition for a word -> there can be multiple definitions for a word, and mutliple capitalisations of a word too"
   ]
  },
  {
   "cell_type": "code",
   "execution_count": 3,
   "id": "0a04cb66",
   "metadata": {},
   "outputs": [
    {
     "name": "stdout",
     "output_type": "stream",
     "text": [
      "defid                                                    15176700\n",
      "row                                                             3\n",
      "word                                        Comically Large Spoon\n",
      "meaning         A spoon that was present in King Bach's ice cr...\n",
      "example         \"Can I get some ice cream?\"\"Only a spoonful.\"\\...\n",
      "contributor                                                 Bukas\n",
      "date                                          2020-07-13 00:00:00\n",
      "upvotes                                                         0\n",
      "downvotes                                                       0\n",
      "crawled_time                                  2020-07-13 15:53:13\n",
      "gif             https://media3.giphy.com/media/5CxttXrbRlaCs/g...\n",
      "Name: 1432193, dtype: object\n",
      "defid                                                          12\n",
      "row                                                            10\n",
      "word                                                    hard-core\n",
      "meaning         anything out of our league that can be good or...\n",
      "example         Dood, that girl's pants are too hard-core for us.\n",
      "contributor                                                    kt\n",
      "date                                          1999-12-09 00:00:00\n",
      "upvotes                                                       166\n",
      "downvotes                                                      96\n",
      "crawled_time                                  2020-07-13 14:46:53\n",
      "gif                                                           NaN\n",
      "Name: 607828, dtype: object\n"
     ]
    }
   ],
   "source": [
    "# Age range of data\n",
    "print(raw_data.iloc[raw_data[\"date\"].argmax()]) # 2020-07-13\n",
    "print(raw_data.iloc[raw_data[\"date\"].argmin()]) # 1999-12-09"
   ]
  },
  {
   "cell_type": "code",
   "execution_count": 4,
   "id": "a9f81552",
   "metadata": {},
   "outputs": [
    {
     "name": "stdout",
     "output_type": "stream",
     "text": [
      "<class 'pandas.core.frame.DataFrame'>\n",
      "RangeIndex: 3857168 entries, 0 to 3857167\n",
      "Data columns (total 6 columns):\n",
      " #   Column     Dtype \n",
      "---  ------     ----- \n",
      " 0   defid      int64 \n",
      " 1   word       object\n",
      " 2   meaning    object\n",
      " 3   example    object\n",
      " 4   upvotes    int64 \n",
      " 5   downvotes  int64 \n",
      "dtypes: int64(3), object(3)\n",
      "memory usage: 176.6+ MB\n",
      "None\n"
     ]
    }
   ],
   "source": [
    "# Dump rows we don't need\n",
    "del raw_data['row']\n",
    "del raw_data['contributor']\n",
    "del raw_data['date']\n",
    "del raw_data['crawled_time']\n",
    "del raw_data['gif']\n",
    "\n",
    "# make all words lower case for ease of computation\n",
    "raw_data['word'] = raw_data['word'].str.lower()\n",
    "\n",
    "print(raw_data.info())"
   ]
  },
  {
   "cell_type": "code",
   "execution_count": 5,
   "id": "a6ab40e2",
   "metadata": {},
   "outputs": [],
   "source": [
    "def get_slurs(include, exclude, duplicates = False, df = raw_data):\n",
    "    # include - list of terms use during search of data\n",
    "    # exclude - list of terms to exclude from words found by include search\n",
    "    # return - unique terms that contain include terms and does not contain exclude terms\n",
    "    if not exclude:\n",
    "        tmp = df[raw_data.meaning.str.contains('|'.join(include))]\n",
    "    else:\n",
    "        \n",
    "        tmp = df[df.meaning.str.contains('|'.join(include))]\n",
    "        tmp = tmp[~tmp.meaning.str.contains('|'.join(exclude))]\n",
    "    \n",
    "    if duplicates:\n",
    "        return tmp\n",
    "    else:\n",
    "        return tmp.drop_duplicates(subset='word')"
   ]
  },
  {
   "cell_type": "markdown",
   "id": "c1767e5d",
   "metadata": {},
   "source": [
    "Keyphrases:\n",
    "- derogatory term, insulting term, racist term, reclaimed, prejudice, slur\n",
    "- examples are questionable?\n",
    "\n",
    "questionable:\n",
    "- ?\n",
    "\n",
    "If it contains certain terms -> include it\n",
    "\n",
    "Do we want to use a ranking system to select terms as some descriptions may have\n",
    "\n",
    "Do we want to consider contreversial terms which are potentially still used? Could use in the filtering."
   ]
  },
  {
   "cell_type": "code",
   "execution_count": 21,
   "id": "2620fa1b",
   "metadata": {},
   "outputs": [
    {
     "name": "stdout",
     "output_type": "stream",
     "text": [
      "            defid            word  \\\n",
      "15       10000237        keemstar   \n",
      "186       1000172     abercrombie   \n",
      "341      10003297       trumpence   \n",
      "635      10005969           locky   \n",
      "1182     10011611   speckled coon   \n",
      "...           ...             ...   \n",
      "3856295   9991558         raceism   \n",
      "3856353   9992118  chinese wanker   \n",
      "3856426    999302          cetnik   \n",
      "3856602   9994685      rash trump   \n",
      "3856775   9996067            soup   \n",
      "\n",
      "                                                   meaning  \\\n",
      "15       A racist garden gnome who loves youtube revenu...   \n",
      "186      1. a clothing store that is highly overpriced,...   \n",
      "341      The act of insincerely apologizing after makin...   \n",
      "635      Locky is a derogatory word that is the male fo...   \n",
      "1182     A type of dog. Definetley not a derogatory nam...   \n",
      "...                                                    ...   \n",
      "3856295  noun: raceismthe belief that all members of ea...   \n",
      "3856353  1. A wanker of the Chinese variety. Usually at...   \n",
      "3856426     a racist word describing a person from serbia!   \n",
      "3856602  Someone of poor intelligence that is quick to ...   \n",
      "3856775  A derogatory word in India, generally directed...   \n",
      "\n",
      "                                                   example  upvotes  downvotes  \n",
      "15       Killer Keemstar here, and lets get rooooight i...       35         11  \n",
      "186      \"god, that girl is such an abercrombie! all of...       28         35  \n",
      "341      Only a few people in the room laughed at the h...      744        406  \n",
      "635      J: All Billy wanted was to have sex with me, h...        7          7  \n",
      "1182                                     You speckled coon        1          0  \n",
      "...                                                    ...      ...        ...  \n",
      "3856295  guy1 \"bruh, i don't think you understand the m...        0          0  \n",
      "3856353  1. Hakeem : Let's go to the shops today boys\\n...       14          2  \n",
      "3856426  Damir:Hey, Armin, look at all those cetniks de...      101        239  \n",
      "3856602  I didn't employ Emma from the agency because o...      425         48  \n",
      "3856775  Person 1: Did you see those soup boys doing wh...        2          0  \n",
      "\n",
      "[20253 rows x 6 columns]\n"
     ]
    }
   ],
   "source": [
    "include_terms = ['derogatory', 'insulting', 'racist', 'prejudice', ' slur ']\n",
    "exclude_terms = ['website', ' shutting down racist ', 'event']\n",
    "\n",
    "slurs = get_slurs(include_terms, exclude_terms)\n",
    "\n",
    "print(slurs)"
   ]
  },
  {
   "cell_type": "code",
   "execution_count": 8,
   "id": "691dd764",
   "metadata": {},
   "outputs": [],
   "source": [
    "# refined = slurs\n",
    "\n",
    "# keyphrases = [' less racist atmosphere ']\n",
    "\n",
    "# matches = refined.meaning.str.contains('|'.join(keyphrases))\n",
    "\n",
    "# slurs = refined[matches].drop_duplicates(subset='word')\n",
    "\n",
    "# keyphrases = [' website ']\n",
    "\n",
    "# matches = refined.meaning.str.contains('|'.join(keyphrases))\n",
    "\n",
    "# refined = refined[matches].drop_duplicates(subset='word')"
   ]
  },
  {
   "cell_type": "markdown",
   "id": "ceaa6bee",
   "metadata": {},
   "source": [
    "uses of racist:\n",
    "- closeted racist who\n",
    "- a racist gnome\n",
    "- outright racist remarks\n",
    "- as racist -> has some issues with certain terms, but lots of good uses \n",
    "- a racist stance\n",
    "- less racist atmosphere/in -> remove?\n",
    "- less racist way/version/ - keep\n",
    "\n",
    "- event -> get rid of?\n",
    "\n",
    "thoughts:\n",
    "- Would something that is originally a name be considered a slur - i.e. Keemstar\n",
    "- Could use NER to detect events, real names(A lot of them are slurs) and remove them? Training set not possible"
   ]
  },
  {
   "cell_type": "markdown",
   "id": "5dc4fba4",
   "metadata": {},
   "source": [
    "Could be interesting to track the use of names/events and their use? Is it worth it?"
   ]
  }
 ],
 "metadata": {
  "kernelspec": {
   "display_name": "dsp",
   "language": "python",
   "name": "dsp"
  },
  "language_info": {
   "codemirror_mode": {
    "name": "ipython",
    "version": 3
   },
   "file_extension": ".py",
   "mimetype": "text/x-python",
   "name": "python",
   "nbconvert_exporter": "python",
   "pygments_lexer": "ipython3",
   "version": "3.9.12"
  }
 },
 "nbformat": 4,
 "nbformat_minor": 5
}
