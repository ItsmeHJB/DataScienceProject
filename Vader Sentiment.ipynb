{
 "cells": [
  {
   "cell_type": "code",
   "execution_count": 2,
   "id": "07200849",
   "metadata": {},
   "outputs": [],
   "source": [
    "from vaderSentiment.vaderSentiment import SentimentIntensityAnalyzer\n",
    "import pandas as pd\n",
    "import re"
   ]
  },
  {
   "cell_type": "code",
   "execution_count": 3,
   "id": "f2845ea7",
   "metadata": {},
   "outputs": [],
   "source": [
    "analyser = SentimentIntensityAnalyzer()\n",
    "\n",
    "def sentiment_analyzer_scores(sentence):\n",
    "    score = analyser.polarity_scores(sentence)\n",
    "    print(\"{:-<40} {}\".format(sentence, str(score)))"
   ]
  },
  {
   "cell_type": "code",
   "execution_count": 4,
   "id": "b37f880b",
   "metadata": {},
   "outputs": [],
   "source": [
    "length = \"short\"\n",
    "file = pd.read_csv(\"matches3.csv\", sep=',', header=None, names=['word', 'text'])\n",
    "dataset = file.drop_duplicates().reset_index(drop=True)"
   ]
  },
  {
   "cell_type": "code",
   "execution_count": 5,
   "id": "3569770a",
   "metadata": {},
   "outputs": [],
   "source": [
    "found_sents = []\n",
    "joint_word = []\n",
    "\n",
    "for index, row in dataset.iterrows():\n",
    "        sentences_list = row.text.split('.')\n",
    "        for sentence in sentences_list:\n",
    "            # Check if there is an exact match of the word in the sentence\n",
    "            if re.search(r'\\b' + row['word'] + r'\\b', sentence):\n",
    "                found_sents.append(sentence)\n",
    "                joint_word.append(row['word'])"
   ]
  },
  {
   "cell_type": "code",
   "execution_count": 9,
   "id": "0e97d9e4",
   "metadata": {},
   "outputs": [],
   "source": [
    "sentiment_df = pd.DataFrame(columns=['word', 'sent'])\n",
    "sentiment_df['word'] = joint_word\n",
    "sentiment_df['sent'] = found_sents"
   ]
  },
  {
   "cell_type": "code",
   "execution_count": 10,
   "id": "2e97d62a",
   "metadata": {},
   "outputs": [],
   "source": [
    "scores = []\n",
    "for index, row in sentiment_df.iterrows():\n",
    "    scores.append(analyser.polarity_scores(row.sent))\n",
    "    \n",
    "sentiment_df['neg'] = [item['neg'] for item in scores]\n",
    "sentiment_df['neu'] = [item['neu'] for item in scores]\n",
    "sentiment_df['pos'] = [item['pos'] for item in scores]\n",
    "sentiment_df['comp'] = [item['compound'] for item in scores]"
   ]
  },
  {
   "cell_type": "code",
   "execution_count": 16,
   "id": "0efc1b9c",
   "metadata": {},
   "outputs": [
    {
     "data": {
      "text/html": [
       "<div>\n",
       "<style scoped>\n",
       "    .dataframe tbody tr th:only-of-type {\n",
       "        vertical-align: middle;\n",
       "    }\n",
       "\n",
       "    .dataframe tbody tr th {\n",
       "        vertical-align: top;\n",
       "    }\n",
       "\n",
       "    .dataframe thead th {\n",
       "        text-align: right;\n",
       "    }\n",
       "</style>\n",
       "<table border=\"1\" class=\"dataframe\">\n",
       "  <thead>\n",
       "    <tr style=\"text-align: right;\">\n",
       "      <th></th>\n",
       "      <th>neg</th>\n",
       "      <th>neu</th>\n",
       "      <th>pos</th>\n",
       "      <th>comp</th>\n",
       "    </tr>\n",
       "    <tr>\n",
       "      <th>word</th>\n",
       "      <th></th>\n",
       "      <th></th>\n",
       "      <th></th>\n",
       "      <th></th>\n",
       "    </tr>\n",
       "  </thead>\n",
       "  <tbody>\n",
       "    <tr>\n",
       "      <th>gag whore</th>\n",
       "      <td>0.770</td>\n",
       "      <td>0.230000</td>\n",
       "      <td>0.000000</td>\n",
       "      <td>-0.771700</td>\n",
       "    </tr>\n",
       "    <tr>\n",
       "      <th>statto</th>\n",
       "      <td>0.608</td>\n",
       "      <td>0.392000</td>\n",
       "      <td>0.000000</td>\n",
       "      <td>-0.476700</td>\n",
       "    </tr>\n",
       "    <tr>\n",
       "      <th>thieving bastard</th>\n",
       "      <td>0.412</td>\n",
       "      <td>0.588000</td>\n",
       "      <td>0.000000</td>\n",
       "      <td>-0.542300</td>\n",
       "    </tr>\n",
       "    <tr>\n",
       "      <th>fallen champion</th>\n",
       "      <td>0.391</td>\n",
       "      <td>0.000000</td>\n",
       "      <td>0.609000</td>\n",
       "      <td>0.340000</td>\n",
       "    </tr>\n",
       "    <tr>\n",
       "      <th>stuck key</th>\n",
       "      <td>0.384</td>\n",
       "      <td>0.539000</td>\n",
       "      <td>0.077000</td>\n",
       "      <td>-0.074500</td>\n",
       "    </tr>\n",
       "    <tr>\n",
       "      <th>...</th>\n",
       "      <td>...</td>\n",
       "      <td>...</td>\n",
       "      <td>...</td>\n",
       "      <td>...</td>\n",
       "    </tr>\n",
       "    <tr>\n",
       "      <th>stylista</th>\n",
       "      <td>0.000</td>\n",
       "      <td>0.858889</td>\n",
       "      <td>0.141111</td>\n",
       "      <td>0.220867</td>\n",
       "    </tr>\n",
       "    <tr>\n",
       "      <th>berliner ballen</th>\n",
       "      <td>0.000</td>\n",
       "      <td>0.795000</td>\n",
       "      <td>0.205000</td>\n",
       "      <td>0.850400</td>\n",
       "    </tr>\n",
       "    <tr>\n",
       "      <th>hunkie</th>\n",
       "      <td>0.000</td>\n",
       "      <td>0.650000</td>\n",
       "      <td>0.350000</td>\n",
       "      <td>0.790100</td>\n",
       "    </tr>\n",
       "    <tr>\n",
       "      <th>matches are free</th>\n",
       "      <td>0.000</td>\n",
       "      <td>0.377000</td>\n",
       "      <td>0.623000</td>\n",
       "      <td>0.510600</td>\n",
       "    </tr>\n",
       "    <tr>\n",
       "      <th>jiaxi</th>\n",
       "      <td>0.000</td>\n",
       "      <td>0.358000</td>\n",
       "      <td>0.642000</td>\n",
       "      <td>0.556200</td>\n",
       "    </tr>\n",
       "  </tbody>\n",
       "</table>\n",
       "<p>86 rows × 4 columns</p>\n",
       "</div>"
      ],
      "text/plain": [
       "                    neg       neu       pos      comp\n",
       "word                                                 \n",
       "gag whore         0.770  0.230000  0.000000 -0.771700\n",
       "statto            0.608  0.392000  0.000000 -0.476700\n",
       "thieving bastard  0.412  0.588000  0.000000 -0.542300\n",
       "fallen champion   0.391  0.000000  0.609000  0.340000\n",
       "stuck key         0.384  0.539000  0.077000 -0.074500\n",
       "...                 ...       ...       ...       ...\n",
       "stylista          0.000  0.858889  0.141111  0.220867\n",
       "berliner ballen   0.000  0.795000  0.205000  0.850400\n",
       "hunkie            0.000  0.650000  0.350000  0.790100\n",
       "matches are free  0.000  0.377000  0.623000  0.510600\n",
       "jiaxi             0.000  0.358000  0.642000  0.556200\n",
       "\n",
       "[86 rows x 4 columns]"
      ]
     },
     "execution_count": 16,
     "metadata": {},
     "output_type": "execute_result"
    }
   ],
   "source": [
    "sentiment_df.groupby(['word'])[['neg', 'neu', 'pos', 'comp']].mean().sort_values(by=['neg', 'pos'], ascending=[False, True])"
   ]
  },
  {
   "cell_type": "code",
   "execution_count": 33,
   "id": "aece9067",
   "metadata": {},
   "outputs": [],
   "source": [
    "def print_sent_by_word(word):\n",
    "    print(sentiment_df[sentiment_df['word'] == word][['word', 'sent']])\n",
    "    print('')"
   ]
  },
  {
   "cell_type": "code",
   "execution_count": 34,
   "id": "1dda562c",
   "metadata": {},
   "outputs": [],
   "source": [
    "def print_text_by_word(word):\n",
    "    print(dataset[dataset['word'] == word]['text'].values)\n",
    "    print('')"
   ]
  },
  {
   "cell_type": "code",
   "execution_count": 35,
   "id": "e22fc479",
   "metadata": {},
   "outputs": [
    {
     "name": "stdout",
     "output_type": "stream",
     "text": [
      "          word                      sent\n",
      "288  gag whore  deepthroat gag whore cum\n",
      "\n",
      "[\"princess cierra femdom - adult videos.home.categories.pantyhose.blowbang.bath.pool.massage.femdom.high heels.centerfold.cum in pussy.mom.panties.indian.blindfold.boots.fetish.shorts.beach.spreading.schoolgirl.nurse.cum in mouth.yoga pants.european.cosplay.titjob.double penetration.oiled.face.footjob.blowjob.dildo.facesitting.creampie.bbw.bikini.skirt.humping.pornstar.wife.seduction.all pics.sex dating.princess cierra femdom.saturday 10th march she is a pro when it comes to role-playing. browse princess sierra's phone sex listings and goody offerings  found in the financial domination category. she can be playful but do not be fooled by her innocent face because she can tease your cock till you cum in her face. you can be the high school virgin you have always desired  or you can be that dominant boss in a femdom who gets his slaves caged and whoops their ass into a frenzy..marsha. age: 21. hey guys its destiny! i'm very down to earth easy going.what do you think about the findom scene in germany and austria?.ceara lynch humiliatrix.we are in contract right now! check out cute babe massaging her butt as soon as she took her panties off. i took the time to look through all her photo galleries and i was not disappointed. you will have to check out the full video here. watch a seductive goddess grinding her hips as she teases  and make little kisses as though she is telling you to cum for her..violet. age: 22. very discreet and independent.femdom xxx videos - latest / stages-online.info (page ).this minx was so into me it was all she could do to keep from rubbing her sweet pussy as we swapped saliva. ceara lynch will have you glued to your seat and you cant leave till your fantasies have been fulfilled. by redirecting your social media traffic to your website  scoop. welcome to the phone sex world of princess sierra on niteflirt. create a free website or blog at wordpress. hey baby  you know how you've always had these cuckolding fantasies?.princess sierra's online exploits! how do i publish content on my topic? pay and find out  asshole. personal blog of a findom goddess. amazing assets - ass worship. during the fall and spring i'm very busy with school and my social life - but found the time to make you bitch ass losers a video gracing you with my perfect ass in the lacquer leggings and my perfect cleavage in a low cut green top! we are set on top of a hill in the middle of a beautiful valley surrounded by different mountain ranges..14 1.femdom.bug6200 5 135 views.princess+cierra+femdom.best of the web.comments.albanyesra +10 points october 10  2018.like it  all her and no toy's..reply.locab +2 points december 7  2018.i would love to clean her beautiful pussy up.reply.fliqz +6 points february 7  2018.mmmmmmm fun times.. :-).reply.clancy605 +0 points january 11  2018.hola solita-77.reply.diassis +4 points may 27  2019.really like this video  marking wank hard.reply.pvcs +6 points december 27  2019.wish you the best but good god quit talking lol.reply.zioxxx +5 points october 23  2019.we were supposed to have more lighting and turn of the tv but we got a bit excited. we have only been fucking for four years so we have lots of sex to make up!!!.reply.pintcube +2 points january 12  2018.do you think her cunt smells of fish or whale meat?.reply.jonsemple +7 points august 11  2018.i would love to fuck her while you filmed x.reply.latest photos.expression facial hair mask.hot lesbian anime pic.free video clip sexy movie scenes.blumkin porn videos.facial bukake video.cartman beats up a midget.free gallery orgy xxx.fetish anime girls.wife filled big cock.free pornstar mature cleavage pix.tinkerbell shemale hentai.convent cum handjob.best mature pornsites.make her have multiple orgasms.pantyhose tamara.free upskirt panty peeks.november 2009 lesbian orgy.great facial products.newest galleries.milf independent web sites.interracial sex jpeg.funny masturbation terms.extreme busty morph.homemade voyeur pussy.free full length suck swallow movie.tonguing the clit.shiny sheer pantyhose.f ree bondage videos.playboy cheri hustler.masturbation till she squirts.cougar interracial dating.elissa dauberman bikini.sex worker technique throat insertion.boy in pantyhose.chubby nutcracker stocking holders.best latina fuck scene.porn anal beginner.normal amateur sex video.femdom add an account.voyeur rubber bondage.deepthroat gag whore cum.niagara falls couples swinging.evangelion hentai manga asuka 4.blue lizard facial sunscreen spf rosacea.celeberty blow job contest.girls lick boobs.mature mom and dad.youtube pamela anderson sex.german mature cunts.top users.vmaccormi.961 points.hotrod5131.810 points.nickelbag.731 points.arrowhead3544.682 points.sachindra009.523 points.p0rnlover.496 points.chloe-taylor.376 points.kzz555.290 points.dianne_payne.163 points.sexymore.92 points.© 2018 stages-online.info / all rights reserved..\"]\n",
      "\n"
     ]
    }
   ],
   "source": [
    "search_word = 'gag whore'\n",
    "print_sent_by_word(search_word)\n",
    "print_text_by_word(search_word)"
   ]
  },
  {
   "cell_type": "code",
   "execution_count": null,
   "id": "a521f9af",
   "metadata": {},
   "outputs": [],
   "source": []
  }
 ],
 "metadata": {
  "kernelspec": {
   "display_name": "dsp",
   "language": "python",
   "name": "dsp"
  },
  "language_info": {
   "codemirror_mode": {
    "name": "ipython",
    "version": 3
   },
   "file_extension": ".py",
   "mimetype": "text/x-python",
   "name": "python",
   "nbconvert_exporter": "python",
   "pygments_lexer": "ipython3",
   "version": "3.9.12"
  }
 },
 "nbformat": 4,
 "nbformat_minor": 5
}
